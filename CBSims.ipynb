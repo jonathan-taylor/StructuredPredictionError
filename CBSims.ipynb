{
 "cells": [
  {
   "cell_type": "code",
   "execution_count": 15,
   "metadata": {},
   "outputs": [],
   "source": [
    "import numpy as np\n",
    "import pandas as pd\n",
    "from sklearn.linear_model import Lasso\n",
    "\n",
    "from spe.mse_estimator import ErrorComparer"
   ]
  },
  {
   "cell_type": "code",
   "execution_count": 2,
   "metadata": {},
   "outputs": [],
   "source": [
    "err_cmp = ErrorComparer()"
   ]
  },
  {
   "cell_type": "code",
   "execution_count": 3,
   "metadata": {},
   "outputs": [],
   "source": [
    "(test_err,\n",
    " test_err_alpha,\n",
    " cb_err,\n",
    " cbiso_err) = err_cmp.compareIID(model=Lasso(alpha=0.31))"
   ]
  },
  {
   "cell_type": "code",
   "execution_count": 4,
   "metadata": {},
   "outputs": [
    {
     "data": {
      "text/plain": [
       "(0.3429022052570812,\n",
       " 0.3289096114478815,\n",
       " 0.30241720705147124,\n",
       " 0.2975638962356867)"
      ]
     },
     "execution_count": 4,
     "metadata": {},
     "output_type": "execute_result"
    }
   ],
   "source": [
    "test_err.mean(), test_err_alpha.mean(), cb_err.mean(), cbiso_err.mean()"
   ]
  },
  {
   "cell_type": "code",
   "execution_count": 7,
   "metadata": {},
   "outputs": [],
   "source": [
    "(test_err_200,\n",
    " test_err_alpha_200,\n",
    " cb_err_200,\n",
    " cbiso_err_200) = err_cmp.compareIID(niter=200, model=Lasso(alpha=0.31))"
   ]
  },
  {
   "cell_type": "code",
   "execution_count": 8,
   "metadata": {},
   "outputs": [
    {
     "data": {
      "text/plain": [
       "(0.5548475010658325,\n",
       " 0.5762377285901351,\n",
       " 0.5865199981898709,\n",
       " 0.5580155016374233)"
      ]
     },
     "execution_count": 8,
     "metadata": {},
     "output_type": "execute_result"
    }
   ],
   "source": [
    "test_err_200.mean(), test_err_alpha_200.mean(), cb_err_200.mean(), cbiso_err_200.mean()"
   ]
  },
  {
   "cell_type": "code",
   "execution_count": 19,
   "metadata": {},
   "outputs": [
    {
     "name": "stdout",
     "output_type": "stream",
     "text": [
      "0\n",
      "1\n",
      "2\n",
      "3\n",
      "4\n",
      "5\n"
     ]
    }
   ],
   "source": [
    "alphas = [0.05, 0.1, 0.2, 0.5, 0.8, 1.]\n",
    "na = len(alphas)\n",
    "niter = 100\n",
    "\n",
    "test_err = np.zeros((na, niter))\n",
    "test_err_alpha = np.zeros((na, niter))\n",
    "cb_err = np.zeros((na, niter))\n",
    "cbiso_err = np.zeros((na, niter))\n",
    "\n",
    "for i,alpha in enumerate(alphas):\n",
    "    print(i)\n",
    "    (test_err[i,:],\n",
    "     test_err_alpha[i,:],\n",
    "     cb_err[i,:],\n",
    "     cbiso_err[i,:]) = err_cmp.compareIID(model=Lasso(alpha=0.31),\n",
    "                                          alpha=alpha)\n",
    "    "
   ]
  },
  {
   "cell_type": "code",
   "execution_count": 20,
   "metadata": {},
   "outputs": [
    {
     "data": {
      "text/plain": [
       "(array([0.70777805, 0.76247479, 0.80678709, 0.29557861, 0.40138645,\n",
       "        0.78577594]),\n",
       " array([0.67875766, 0.78511074, 1.04449846, 0.52522517, 0.53452883,\n",
       "        1.46902004]),\n",
       " array([0.70776465, 0.76100605, 0.94316857, 0.42678149, 0.52253926,\n",
       "        1.44320546]),\n",
       " array([0.71255507, 0.73951555, 0.89475952, 0.42081206, 0.5260177 ,\n",
       "        1.45102804]))"
      ]
     },
     "execution_count": 20,
     "metadata": {},
     "output_type": "execute_result"
    }
   ],
   "source": [
    "risk = test_err.mean(axis=1)\n",
    "risk_alpha = test_err_alpha.mean(axis=1)\n",
    "risk_cb = cb_err.mean(axis=1)\n",
    "risk_cbiso = cbiso_err.mean(axis=1)\n",
    "risk, risk_alpha, risk_cb, risk_cbiso"
   ]
  },
  {
   "cell_type": "code",
   "execution_count": null,
   "metadata": {},
   "outputs": [],
   "source": []
  }
 ],
 "metadata": {
  "kernelspec": {
   "display_name": "Python 3",
   "language": "python",
   "name": "python3"
  },
  "language_info": {
   "codemirror_mode": {
    "name": "ipython",
    "version": 3
   },
   "file_extension": ".py",
   "mimetype": "text/x-python",
   "name": "python",
   "nbconvert_exporter": "python",
   "pygments_lexer": "ipython3",
   "version": "3.7.6"
  }
 },
 "nbformat": 4,
 "nbformat_minor": 4
}
