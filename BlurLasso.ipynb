{
 "cells": [
  {
   "cell_type": "code",
   "execution_count": 1,
   "metadata": {},
   "outputs": [],
   "source": [
    "import numpy as np\n",
    "import pandas as pd\n",
    "from sklearn.linear_model import Lasso, LinearRegression\n",
    "\n",
    "import plotly.express as px\n",
    "import plotly.graph_objects as go\n",
    "\n",
    "from spe.mse_estimator import ErrorComparer\n",
    "from spe.relaxed_lasso import RelaxedLasso"
   ]
  },
  {
   "cell_type": "code",
   "execution_count": 2,
   "metadata": {},
   "outputs": [],
   "source": [
    "err_cmp = ErrorComparer()"
   ]
  },
  {
   "cell_type": "code",
   "execution_count": 3,
   "metadata": {},
   "outputs": [
    {
     "name": "stdout",
     "output_type": "stream",
     "text": [
      "0\n"
     ]
    },
    {
     "ename": "TypeError",
     "evalue": "_estimate() got an unexpected keyword argument 'Chol_eps'",
     "output_type": "error",
     "traceback": [
      "\u001b[0;31m---------------------------------------------------------------------------\u001b[0m",
      "\u001b[0;31mTypeError\u001b[0m                                 Traceback (most recent call last)",
      "Input \u001b[0;32mIn [3]\u001b[0m, in \u001b[0;36m<cell line: 18>\u001b[0;34m()\u001b[0m\n\u001b[1;32m     18\u001b[0m \u001b[38;5;28;01mfor\u001b[39;00m i,alpha \u001b[38;5;129;01min\u001b[39;00m \u001b[38;5;28menumerate\u001b[39m(alphas):\n\u001b[1;32m     19\u001b[0m     \u001b[38;5;28mprint\u001b[39m(i)\n\u001b[1;32m     20\u001b[0m     (test_err[i,:],\n\u001b[0;32m---> 21\u001b[0m      blur_err[i,:]) \u001b[38;5;241m=\u001b[39m \u001b[43merr_cmp\u001b[49m\u001b[38;5;241;43m.\u001b[39;49m\u001b[43mcompareBlurLassoIID\u001b[49m\u001b[43m(\u001b[49m\u001b[43mn\u001b[49m\u001b[38;5;241;43m=\u001b[39;49m\u001b[43mn\u001b[49m\u001b[43m,\u001b[49m\n\u001b[1;32m     22\u001b[0m \u001b[43m                                         \u001b[49m\u001b[43mp\u001b[49m\u001b[38;5;241;43m=\u001b[39;49m\u001b[43mp\u001b[49m\u001b[43m,\u001b[49m\n\u001b[1;32m     23\u001b[0m \u001b[43m                                         \u001b[49m\u001b[43mX\u001b[49m\u001b[38;5;241;43m=\u001b[39;49m\u001b[43mX\u001b[49m\u001b[43m,\u001b[49m\n\u001b[1;32m     24\u001b[0m \u001b[43m                                         \u001b[49m\u001b[43mbeta\u001b[49m\u001b[38;5;241;43m=\u001b[39;49m\u001b[43mbeta\u001b[49m\u001b[43m,\u001b[49m\n\u001b[1;32m     25\u001b[0m \u001b[43m                                         \u001b[49m\u001b[43mmodel\u001b[49m\u001b[38;5;241;43m=\u001b[39;49m\u001b[43mRelaxedLasso\u001b[49m\u001b[43m(\u001b[49m\u001b[43mlambd\u001b[49m\u001b[38;5;241;43m=\u001b[39;49m\u001b[38;5;241;43m.31\u001b[39;49m\u001b[43m)\u001b[49m\u001b[43m,\u001b[49m\n\u001b[1;32m     26\u001b[0m \u001b[43m                                         \u001b[49m\u001b[43malpha\u001b[49m\u001b[38;5;241;43m=\u001b[39;49m\u001b[43malpha\u001b[49m\u001b[43m,\u001b[49m\n\u001b[1;32m     27\u001b[0m \u001b[43m                                         \u001b[49m\u001b[43mniter\u001b[49m\u001b[38;5;241;43m=\u001b[39;49m\u001b[43mniter\u001b[49m\u001b[43m,\u001b[49m\n\u001b[1;32m     28\u001b[0m \u001b[43m                                         \u001b[49m\u001b[43mest_risk\u001b[49m\u001b[38;5;241;43m=\u001b[39;49m\u001b[38;5;28;43;01mTrue\u001b[39;49;00m\u001b[43m)\u001b[49m\n",
      "File \u001b[0;32m~/git-repos/StructuredPredictionError/spe/mse_estimator.py:254\u001b[0m, in \u001b[0;36mErrorComparer.compareBlurLassoIID\u001b[0;34m(self, niter, n, p, s, snr, X, beta, model, alpha, est_risk)\u001b[0m\n\u001b[1;32m    244\u001b[0m y_test \u001b[38;5;241m=\u001b[39m mu \u001b[38;5;241m+\u001b[39m sigma \u001b[38;5;241m*\u001b[39m np\u001b[38;5;241m.\u001b[39mrandom\u001b[38;5;241m.\u001b[39mrandn(n)\n\u001b[1;32m    245\u001b[0m \u001b[38;5;66;03m# y_alpha = mu + sigma * np.sqrt(1 + alpha) * np.random.randn(n)\u001b[39;00m\n\u001b[1;32m    246\u001b[0m \u001b[38;5;66;03m# y_test_alpha = mu + sigma * np.sqrt(1 + alpha) * np.random.randn(n)\u001b[39;00m\n\u001b[1;32m    247\u001b[0m \n\u001b[0;32m   (...)\u001b[0m\n\u001b[1;32m    252\u001b[0m \u001b[38;5;66;03m#                                   model=model,\u001b[39;00m\n\u001b[1;32m    253\u001b[0m \u001b[38;5;66;03m#                                   est_risk=est_risk)\u001b[39;00m\n\u001b[0;32m--> 254\u001b[0m \u001b[38;5;28mself\u001b[39m\u001b[38;5;241m.\u001b[39mblur_err[i] \u001b[38;5;241m=\u001b[39m \u001b[43m_estimate\u001b[49m\u001b[43m(\u001b[49m\u001b[43mX\u001b[49m\u001b[43m,\u001b[49m\u001b[43m \u001b[49m\n\u001b[1;32m    255\u001b[0m \u001b[43m                             \u001b[49m\u001b[43my\u001b[49m\u001b[43m,\u001b[49m\u001b[43m \u001b[49m\n\u001b[1;32m    256\u001b[0m \u001b[43m                             \u001b[49m\u001b[43mChol_t\u001b[49m\u001b[38;5;241;43m=\u001b[39;49m\u001b[43mnp\u001b[49m\u001b[38;5;241;43m.\u001b[39;49m\u001b[43meye\u001b[49m\u001b[43m(\u001b[49m\u001b[43mn\u001b[49m\u001b[43m)\u001b[49m\u001b[38;5;241;43m*\u001b[39;49m\u001b[43msigma\u001b[49m\u001b[43m,\u001b[49m\u001b[43m \u001b[49m\n\u001b[1;32m    257\u001b[0m \u001b[43m                             \u001b[49m\u001b[43mChol_eps\u001b[49m\u001b[38;5;241;43m=\u001b[39;49m\u001b[43mnp\u001b[49m\u001b[38;5;241;43m.\u001b[39;49m\u001b[43meye\u001b[49m\u001b[43m(\u001b[49m\u001b[43mn\u001b[49m\u001b[43m)\u001b[49m\u001b[38;5;241;43m*\u001b[39;49m\u001b[43mnp\u001b[49m\u001b[38;5;241;43m.\u001b[39;49m\u001b[43msqrt\u001b[49m\u001b[43m(\u001b[49m\u001b[43malpha\u001b[49m\u001b[43m)\u001b[49m\u001b[38;5;241;43m*\u001b[39;49m\u001b[43msigma\u001b[49m\u001b[43m,\u001b[49m\n\u001b[1;32m    258\u001b[0m \u001b[43m                             \u001b[49m\u001b[43mmodel\u001b[49m\u001b[38;5;241;43m=\u001b[39;49m\u001b[43mmodel\u001b[49m\u001b[43m,\u001b[49m\n\u001b[1;32m    259\u001b[0m \u001b[43m                             \u001b[49m\u001b[43mest_risk\u001b[49m\u001b[38;5;241;43m=\u001b[39;49m\u001b[43mest_risk\u001b[49m\u001b[43m)\u001b[49m\n\u001b[1;32m    261\u001b[0m XE \u001b[38;5;241m=\u001b[39m X[:, model\u001b[38;5;241m.\u001b[39mE_] \u001b[38;5;28;01mif\u001b[39;00m model\u001b[38;5;241m.\u001b[39mE_\u001b[38;5;241m.\u001b[39mshape[\u001b[38;5;241m0\u001b[39m] \u001b[38;5;241m!=\u001b[39m \u001b[38;5;241m0\u001b[39m \u001b[38;5;28;01melse\u001b[39;00m np\u001b[38;5;241m.\u001b[39mzeros((X\u001b[38;5;241m.\u001b[39mshape[\u001b[38;5;241m0\u001b[39m],\u001b[38;5;241m1\u001b[39m))\n\u001b[1;32m    262\u001b[0m \u001b[38;5;28mself\u001b[39m\u001b[38;5;241m.\u001b[39mtest_err[i] \u001b[38;5;241m=\u001b[39m _estimate(model\u001b[38;5;241m=\u001b[39mLinearRegression(),\n\u001b[1;32m    263\u001b[0m                              X\u001b[38;5;241m=\u001b[39mXE, \n\u001b[1;32m    264\u001b[0m                              y\u001b[38;5;241m=\u001b[39my, \n\u001b[1;32m    265\u001b[0m                              y_test\u001b[38;5;241m=\u001b[39my_test, \n\u001b[1;32m    266\u001b[0m                              Chol_t\u001b[38;5;241m=\u001b[39mnp\u001b[38;5;241m.\u001b[39meye(n)\u001b[38;5;241m*\u001b[39msigma, \n\u001b[1;32m    267\u001b[0m                              est_risk\u001b[38;5;241m=\u001b[39mest_risk)\n",
      "\u001b[0;31mTypeError\u001b[0m: _estimate() got an unexpected keyword argument 'Chol_eps'"
     ]
    }
   ],
   "source": [
    "alphas = [0.05, 0.5, 1.]#0.05, 0.1, 0.2, 0.5, 0.8, 1.]\n",
    "na = len(alphas)\n",
    "niter = 100\n",
    "\n",
    "test_err = np.zeros((na, niter))\n",
    "test_err_alpha = np.zeros((na, niter))\n",
    "cb_err = np.zeros((na, niter))\n",
    "blur_err = np.zeros((na, niter))\n",
    "\n",
    "n=100\n",
    "p=30\n",
    "s=30\n",
    "X = np.random.randn(n,p)\n",
    "beta = np.zeros(p)\n",
    "idx = np.random.choice(p,size=s)\n",
    "beta[idx] = np.random.uniform(-1,1,size=s)\n",
    "\n",
    "for i,alpha in enumerate(alphas):\n",
    "    print(i)\n",
    "    (test_err[i,:],\n",
    "     blur_err[i,:]) = err_cmp.compareBlurLassoIID(n=n,\n",
    "                                         p=p,\n",
    "                                         X=X,\n",
    "                                         beta=beta,\n",
    "                                         model=RelaxedLasso(lambd=.31),\n",
    "                                         alpha=alpha,\n",
    "                                         niter=niter,\n",
    "                                         est_risk=True)\n",
    "    "
   ]
  },
  {
   "cell_type": "code",
   "execution_count": null,
   "metadata": {},
   "outputs": [],
   "source": [
    "blur_err = pd.DataFrame(blur_err.T, columns=alphas)\n",
    "test_err = pd.DataFrame(test_err.T, columns=alphas)\n",
    "blur_err['error'] = 'blurring'\n",
    "test_err['error'] = 'test'\n",
    "blur_df = pd.concat([blur_err, test_err])\n",
    "blur_df"
   ]
  },
  {
   "cell_type": "code",
   "execution_count": null,
   "metadata": {},
   "outputs": [],
   "source": [
    "fig_blur = px.box(blur_df, \n",
    "                  color='error',\n",
    "             labels={\n",
    "                     \"variable\": \"Alpha\",\n",
    "                     \"value\": \"Risk\"\n",
    "                     },\n",
    "             title=\"Blurred\")\n",
    "fig_blur.update_traces(boxmean=True)\n",
    "# fig_blur.add_trace(go.Scatter(x=[-1,6], \n",
    "#                          y=[test_err.mean(),test_err.mean()], \n",
    "#                          mode='lines', \n",
    "#                          name='err'))\n",
    "fig_blur.update_layout(\n",
    "    xaxis = dict(\n",
    "        tickmode = 'array',\n",
    "        tickvals = np.arange(na),\n",
    "        ticktext = alphas,\n",
    "    )\n",
    ")"
   ]
  },
  {
   "cell_type": "code",
   "execution_count": null,
   "metadata": {},
   "outputs": [],
   "source": []
  },
  {
   "cell_type": "code",
   "execution_count": null,
   "metadata": {},
   "outputs": [],
   "source": [
    "alphas = [0.05, 0.5, 1.]#0.05, 0.1, 0.2, 0.5, 0.8, 1.]\n",
    "na = len(alphas)\n",
    "niter = 100\n",
    "\n",
    "test_err_big = np.zeros((na, niter))\n",
    "blur_err_big = np.zeros((na, niter))\n",
    "\n",
    "n=100\n",
    "p=100\n",
    "s=30\n",
    "X = np.random.randn(n,p)\n",
    "beta = np.zeros(p)\n",
    "idx = np.random.choice(p,size=s)\n",
    "beta[idx] = np.random.uniform(-1,1,size=s)\n",
    "\n",
    "for i,alpha in enumerate(alphas):\n",
    "    print(i)\n",
    "    (test_err_big[i,:],\n",
    "     blur_err_big[i,:]) = err_cmp.compareBlurLassoIID(n=n,\n",
    "                                         p=p,\n",
    "                                         X=X,\n",
    "                                         beta=beta,\n",
    "                                         model=RelaxedLasso(lambd=.31),\n",
    "                                         alpha=alpha,\n",
    "                                         niter=niter,\n",
    "                                         est_risk=True)\n",
    "    "
   ]
  },
  {
   "cell_type": "code",
   "execution_count": null,
   "metadata": {},
   "outputs": [],
   "source": [
    "blur_err = pd.DataFrame(blur_err_big.T, columns=alphas)\n",
    "test_err = pd.DataFrame(test_err_big.T, columns=alphas)\n",
    "blur_err['error'] = 'blurring'\n",
    "test_err['error'] = 'test'\n",
    "blur_df_big = pd.concat([blur_err, test_err])\n",
    "blur_df_big"
   ]
  },
  {
   "cell_type": "code",
   "execution_count": null,
   "metadata": {},
   "outputs": [],
   "source": [
    "fig_blur = px.box(blur_df_big,\n",
    "                  color='error',\n",
    "             labels={\n",
    "                     \"variable\": \"Alpha\",\n",
    "                     \"value\": \"Risk\"\n",
    "                     },\n",
    "             title=\"Blurred\")\n",
    "fig_blur.update_traces(boxmean=True)\n",
    "# fig_blur.add_trace(go.Scatter(x=[-1,6], \n",
    "#                          y=[test_err.mean(),test_err.mean()], \n",
    "#                          mode='lines', \n",
    "#                          name='err'))\n",
    "fig_blur.update_layout(\n",
    "    xaxis = dict(\n",
    "        tickmode = 'array',\n",
    "        tickvals = np.arange(na),\n",
    "        ticktext = alphas,\n",
    "    )\n",
    ")"
   ]
  },
  {
   "cell_type": "code",
   "execution_count": null,
   "metadata": {},
   "outputs": [],
   "source": []
  },
  {
   "cell_type": "code",
   "execution_count": null,
   "metadata": {},
   "outputs": [],
   "source": [
    "alphas = [0.05, 0.5, 1.]#0.05, 0.1, 0.2, 0.5, 0.8, 1.]\n",
    "na = len(alphas)\n",
    "niter = 100\n",
    "\n",
    "test_err_xl = np.zeros((na, niter))\n",
    "blur_err_xl = np.zeros((na, niter))\n",
    "\n",
    "n=100\n",
    "p=200\n",
    "s=30\n",
    "X = np.random.randn(n,p)\n",
    "beta = np.zeros(p)\n",
    "idx = np.random.choice(p,size=s)\n",
    "beta[idx] = np.random.uniform(-1,1,size=s)\n",
    "\n",
    "for i,alpha in enumerate(alphas):\n",
    "    print(i)\n",
    "    (test_err_xl[i,:],\n",
    "     blur_err_xl[i,:]) = err_cmp.compareBlurLassoIID(n=n,\n",
    "                                         p=p,\n",
    "                                         X=X,\n",
    "                                         beta=beta,\n",
    "                                         model=RelaxedLasso(lambd=.31),\n",
    "                                         alpha=alpha,\n",
    "                                         niter=niter,\n",
    "                                         est_risk=True)\n",
    "    "
   ]
  },
  {
   "cell_type": "code",
   "execution_count": null,
   "metadata": {},
   "outputs": [],
   "source": [
    "blur_err = pd.DataFrame(blur_err_xl.T, columns=alphas)\n",
    "test_err = pd.DataFrame(test_err_xl.T, columns=alphas)\n",
    "blur_err['error'] = 'blurring'\n",
    "test_err['error'] = 'test'\n",
    "blur_df_xl = pd.concat([blur_err, test_err])\n",
    "blur_df_xl"
   ]
  },
  {
   "cell_type": "code",
   "execution_count": null,
   "metadata": {},
   "outputs": [],
   "source": [
    "fig_blur = px.box(blur_df_xl, \n",
    "                  color='error',\n",
    "             labels={\n",
    "                     \"variable\": \"Alpha\",\n",
    "                     \"value\": \"Risk\"\n",
    "                     },\n",
    "             title=\"Blurred\")\n",
    "fig_blur.update_traces(boxmean=True)\n",
    "# fig_blur.add_trace(go.Scatter(x=[-1,6], \n",
    "#                          y=[test_err.mean(),test_err.mean()], \n",
    "#                          mode='lines', \n",
    "#                          name='err'))\n",
    "fig_blur.update_layout(\n",
    "    xaxis = dict(\n",
    "        tickmode = 'array',\n",
    "        tickvals = np.arange(na),\n",
    "        ticktext = alphas,\n",
    "    )\n",
    ")"
   ]
  },
  {
   "cell_type": "code",
   "execution_count": null,
   "metadata": {},
   "outputs": [],
   "source": []
  },
  {
   "cell_type": "code",
   "execution_count": null,
   "metadata": {},
   "outputs": [],
   "source": []
  }
 ],
 "metadata": {
  "kernelspec": {
   "display_name": "Python 3 (ipykernel)",
   "language": "python",
   "name": "python3"
  },
  "language_info": {
   "codemirror_mode": {
    "name": "ipython",
    "version": 3
   },
   "file_extension": ".py",
   "mimetype": "text/x-python",
   "name": "python",
   "nbconvert_exporter": "python",
   "pygments_lexer": "ipython3",
   "version": "3.8.13"
  }
 },
 "nbformat": 4,
 "nbformat_minor": 4
}
